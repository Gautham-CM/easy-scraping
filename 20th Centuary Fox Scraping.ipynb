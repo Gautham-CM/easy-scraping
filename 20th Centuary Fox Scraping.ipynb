{
 "cells": [
  {
   "cell_type": "markdown",
   "metadata": {},
   "source": [
    "# 20th Century Fox 2000 - 2020 All Movies Data"
   ]
  },
  {
   "cell_type": "markdown",
   "metadata": {},
   "source": [
    "#### Scraping the main page to get the links for all individual movies"
   ]
  },
  {
   "cell_type": "code",
   "execution_count": null,
   "metadata": {},
   "outputs": [],
   "source": [
    "from bs4 import BeautifulSoup as bs\n",
    "import requests\n",
    "import pandas as pd\n",
    "\n",
    "main_site = requests.get(\"https://en.wikipedia.org/wiki/List_of_20th_Century_Fox_films_(2000%E2%80%932020)\")\n",
    "souped_movie_main = bs(main_site.content,\"html.parser\")\n",
    "main_table = souped_movie_main.find_all(\"table\",class_=\"wikitable sortable\")\n",
    "link_list = []\n",
    "for val in range(0,len(main_table)):\n",
    "    main_table_content = main_table[val].tbody.find_all(\"tr\")\n",
    "    for val1 in range(1,len(main_table_content)):\n",
    "        link_list.append(main_table_content[val1].a.get(\"href\"))"
   ]
  },
  {
   "cell_type": "markdown",
   "metadata": {},
   "source": [
    "#### Function to return the text values as list if many are present or as a string if idividual"
   ]
  },
  {
   "cell_type": "code",
   "execution_count": null,
   "metadata": {},
   "outputs": [],
   "source": [
    "def get_content(content):\n",
    "    if len(content.find_all(\"li\")) > 0:\n",
    "        # If there are multiple values corresponding to one key\n",
    "        lis = [li.text.replace(\"\\xa0\",\" \").replace(\"[1]\",\"\") for li in content.find_all(\"li\")]\n",
    "        return lis\n",
    "    else:\n",
    "        # If there is only one Value corresponding to a key\n",
    "        lis = (content.td.text).replace(\"\\xa0\",\" \").replace(\"[1]\",\"\")\n",
    "        return lis"
   ]
  },
  {
   "cell_type": "markdown",
   "metadata": {},
   "source": [
    "#### From the main page, each url is again passed and the infobox data is scraped and stored in a dictionary where keys are Movie Title, Director, Budget etc. and values are the values corresponding to the keys in infobox "
   ]
  },
  {
   "cell_type": "code",
   "execution_count": null,
   "metadata": {},
   "outputs": [],
   "source": [
    "full_movie_list = []\n",
    "for url in link_list:\n",
    "    try:\n",
    "        site = requests.get(\"https://en.wikipedia.org/\"+url)\n",
    "        souped_movie = bs(site.content,\"html.parser\")\n",
    "\n",
    "        table = souped_movie.find(\"table\",class_=\"infobox vevent\")\n",
    "        table_content = table.find_all(\"tr\")\n",
    "        movie_dict = {}\n",
    "        movie_dict['Title'] = table_content[0].text\n",
    "        for x in range(2,len(table_content)):\n",
    "            movie_dict[table_content[x].th.text] = get_content(table_content[x])\n",
    "        # A list of dictionaries is created this way\n",
    "        full_movie_list.append(movie_dict)\n",
    "    except:\n",
    "        print(\"An Exception Occured at url \" + url)\n",
    "        \n",
    "# dictionary is directly converted to DataFrame where the keys form the columns\n",
    "df = pd.DataFrame(full_movie_list)"
   ]
  }
 ],
 "metadata": {
  "kernelspec": {
   "display_name": "Python 3",
   "language": "python",
   "name": "python3"
  },
  "language_info": {
   "codemirror_mode": {
    "name": "ipython",
    "version": 3
   },
   "file_extension": ".py",
   "mimetype": "text/x-python",
   "name": "python",
   "nbconvert_exporter": "python",
   "pygments_lexer": "ipython3",
   "version": "3.7.6"
  }
 },
 "nbformat": 4,
 "nbformat_minor": 4
}
